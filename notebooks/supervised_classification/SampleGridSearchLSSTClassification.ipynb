{
 "cells": [
  {
   "cell_type": "code",
   "execution_count": 12,
   "metadata": {
    "collapsed": false
   },
   "outputs": [],
   "source": [
    "import sys\n",
    "from sklearn.cross_validation import train_test_split\n",
    "from MLPipeline.IO.config_parser import parse_configfile\n",
    "from MLPipeline.IO.collect_classes import get_two_classes\n",
    "from MLPipeline.gridsearch._tools import build_parameter_grid, grid_search\n",
    "from sklearn.pipeline import Pipeline\n",
    "import time"
   ]
  },
  {
   "cell_type": "code",
   "execution_count": 13,
   "metadata": {
    "collapsed": false
   },
   "outputs": [],
   "source": [
    "# Load the data and the labels\n",
    "X, y = get_two_classes('../data/LSST/nonlens/*', '../data/LSST/lens/*')"
   ]
  },
  {
   "cell_type": "code",
   "execution_count": 27,
   "metadata": {
    "collapsed": true
   },
   "outputs": [],
   "source": [
    "# Split the dataset and labels into training and testing subsets (collect first 100, which are non-lens,\n",
    "# and last hundred, which are lens)                                                \n",
    "X_train, X_test, y_train, y_test = train_test_split( X[:100]+X[-100:], y[:100]+y[-100:], test_size=0.2 )"
   ]
  },
  {
   "cell_type": "code",
   "execution_count": 16,
   "metadata": {
    "collapsed": false
   },
   "outputs": [],
   "source": [
    "# Build the estimators and feed into the pipeline      \n",
    "from sklearn.linear_model import LogisticRegression\n",
    "from MLPipeline.features.feature_extraction import HOG\n",
    "feature_selection = [('hog', HOG())]\n",
    "classifier = [('logistic_regression', LogisticRegression())]\n",
    "\n",
    "estimators = feature_selection+classifier\n",
    "\n",
    "pipeline = Pipeline(estimators)"
   ]
  },
  {
   "cell_type": "code",
   "execution_count": 20,
   "metadata": {
    "collapsed": false
   },
   "outputs": [],
   "source": [
    "# Create the grid search with list of parameters                                                             \n",
    "# to search                                                                                                  \n",
    "param_grid = [{'hog__orientations' : (4, 5,),\n",
    "                'hog__pixels_per_cell' : ((4, 4),),\n",
    "                'hog__cells_per_block' : ((2, 2),),\n",
    "                'logistic_regression__C' : (1.,10.),\n",
    "                }]\n"
   ]
  },
  {
   "cell_type": "code",
   "execution_count": 23,
   "metadata": {
    "collapsed": false
   },
   "outputs": [],
   "source": [
    "# Compose a grid search from the extimators in the pipeline and the corresponding grid parameters\n",
    "from sklearn.grid_search import GridSearchCV\n",
    "grid_search = GridSearchCV(pipeline, param_grid,\n",
    "                               n_jobs = -1)"
   ]
  },
  {
   "cell_type": "code",
   "execution_count": 29,
   "metadata": {
    "collapsed": false
   },
   "outputs": [
    {
     "name": "stdout",
     "output_type": "stream",
     "text": [
      "Time Taken:  19.7791969776\n"
     ]
    }
   ],
   "source": [
    "# Run the grid search on the training set\n",
    "start_time = time.time()\n",
    "grid_search.fit(X_train,y_train)\n",
    "print \"Time Taken: \", time.time() - start_time"
   ]
  },
  {
   "cell_type": "code",
   "execution_count": 30,
   "metadata": {
    "collapsed": false
   },
   "outputs": [
    {
     "data": {
      "text/plain": [
       "0.60624999999999996"
      ]
     },
     "execution_count": 30,
     "metadata": {},
     "output_type": "execute_result"
    }
   ],
   "source": [
    "# Take a look at the best score\n",
    "grid_search.best_score_"
   ]
  },
  {
   "cell_type": "code",
   "execution_count": 33,
   "metadata": {
    "collapsed": false
   },
   "outputs": [
    {
     "data": {
      "text/plain": [
       "{'hog__cells_per_block': (2, 2),\n",
       " 'hog__orientations': 4,\n",
       " 'hog__pixels_per_cell': (4, 4),\n",
       " 'logistic_regression__C': 1.0}"
      ]
     },
     "execution_count": 33,
     "metadata": {},
     "output_type": "execute_result"
    }
   ],
   "source": [
    "# Take a look at the parameters that output the best score\n",
    "grid_search.best_params_"
   ]
  },
  {
   "cell_type": "code",
   "execution_count": 44,
   "metadata": {
    "collapsed": false
   },
   "outputs": [],
   "source": [
    "# Short function to print the confusion matrix for predicted scores\n",
    "def confusion_matrix(predicted, actual):\n",
    "    '''                                                                                                          \n",
    "    | Outputs (what model thinks it is, what it is)                                                              \n",
    "                                                                                                                 \n",
    "    '''\n",
    "    import numpy as np\n",
    "    from collections import Counter\n",
    "    predicted, actual = map(np.array, [predicted, actual])\n",
    "    return Counter(zip(predicted, actual))\n"
   ]
  },
  {
   "cell_type": "code",
   "execution_count": 47,
   "metadata": {
    "collapsed": false
   },
   "outputs": [
    {
     "name": "stdout",
     "output_type": "stream",
     "text": [
      "Train score: 0.91875\n",
      "Train score: 0.6\n"
     ]
    }
   ],
   "source": [
    "# Show score for training set and test set using best parameters                                                          \n",
    "print 'Train score:', grid_search.score(X_train, y_train)\n",
    "print 'Test score:', grid_search.score(X_test, y_test)"
   ]
  },
  {
   "cell_type": "code",
   "execution_count": 48,
   "metadata": {
    "collapsed": false
   },
   "outputs": [
    {
     "name": "stdout",
     "output_type": "stream",
     "text": [
      "train matrix Counter({(0, 0): 77, (1, 1): 70, (0, 1): 10, (1, 0): 3})\n",
      "test matrix Counter({(1, 1): 13, (0, 0): 11, (1, 0): 9, (0, 1): 7})\n"
     ]
    }
   ],
   "source": [
    "# Show confusion matrix for test set using best parameters\n",
    "print 'train matrix', confusion_matrix(grid_search.predict(X_train), y_train)\n",
    "print 'test matrix', confusion_matrix(grid_search.predict(X_test), y_test)"
   ]
  },
  {
   "cell_type": "code",
   "execution_count": null,
   "metadata": {
    "collapsed": true
   },
   "outputs": [],
   "source": []
  }
 ],
 "metadata": {
  "kernelspec": {
   "display_name": "Python 2",
   "language": "python",
   "name": "python2"
  },
  "language_info": {
   "codemirror_mode": {
    "name": "ipython",
    "version": 2
   },
   "file_extension": ".py",
   "mimetype": "text/x-python",
   "name": "python",
   "nbconvert_exporter": "python",
   "pygments_lexer": "ipython2",
   "version": "2.7.11"
  }
 },
 "nbformat": 4,
 "nbformat_minor": 0
}
